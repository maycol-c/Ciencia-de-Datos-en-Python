{
 "cells": [
  {
   "attachments": {},
   "cell_type": "markdown",
   "id": "57959206",
   "metadata": {},
   "source": [
    "Laboratorio 3: Análisis de Datos con Python\n",
    "\n",
    "Parte 1: Numpy:"
   ]
  },
  {
   "attachments": {},
   "cell_type": "markdown",
   "id": "0070c826",
   "metadata": {},
   "source": [
    "1) ¿Cuál es el tamaño en bytes de un array de 1000 \n",
    "elementos de tipo booleano?"
   ]
  },
  {
   "cell_type": "code",
   "execution_count": 2,
   "id": "8e15aa36",
   "metadata": {},
   "outputs": [
    {
     "name": "stdout",
     "output_type": "stream",
     "text": [
      "Collecting numpy\n",
      "  Downloading numpy-1.24.2-cp38-cp38-win_amd64.whl (14.9 MB)\n",
      "     ---------------------------------------- 14.9/14.9 MB 2.5 MB/s eta 0:00:00\n",
      "Installing collected packages: numpy\n",
      "Successfully installed numpy-1.24.2\n",
      "Note: you may need to restart the kernel to use updated packages.\n"
     ]
    }
   ],
   "source": [
    "pip install numpy"
   ]
  },
  {
   "cell_type": "code",
   "execution_count": 3,
   "id": "9a929c40",
   "metadata": {},
   "outputs": [],
   "source": [
    "import numpy as np"
   ]
  },
  {
   "cell_type": "code",
   "execution_count": 5,
   "id": "d5c2528e",
   "metadata": {},
   "outputs": [
    {
     "name": "stdout",
     "output_type": "stream",
     "text": [
      "1000\n"
     ]
    }
   ],
   "source": [
    "array1_true = np.repeat(True, 500)\n",
    "\n",
    "array1_false = np.repeat(False, 500)\n",
    "\n",
    "# Concatenar los dos arreglos\n",
    "array1 = np.concatenate([array1_true, array1_false])\n",
    "\n",
    "# Tamaño del arreglo en bytes\n",
    "print(array1.size)"
   ]
  },
  {
   "attachments": {},
   "cell_type": "markdown",
   "id": "5e4f222b",
   "metadata": {},
   "source": [
    " 2) Cree un array cuyos elementos sean los enteros pares en \n",
    "[1,100] y en orden decreciente. Muestre los 10 últimos \n",
    "por pantalla."
   ]
  },
  {
   "cell_type": "code",
   "execution_count": 6,
   "id": "bee90d8d",
   "metadata": {},
   "outputs": [
    {
     "name": "stdout",
     "output_type": "stream",
     "text": [
      "[100  98  96  94  92  90  88  86  84  82  80  78  76  74  72  70  68  66\n",
      "  64  62  60  58  56  54  52  50  48  46  44  42  40  38  36  34  32  30\n",
      "  28  26  24  22  20  18  16  14  12  10   8   6   4   2]\n",
      "[20 18 16 14 12 10  8  6  4  2]\n"
     ]
    }
   ],
   "source": [
    "array2 = np.arange(2, 101, 2)\n",
    "\n",
    "# Se inverte el array\n",
    "array2 = np.flip(array2)\n",
    "\n",
    "# Comprobación\n",
    "print(array2)\n",
    "# Mostrar los ultimos\n",
    "print(array2[-10:])"
   ]
  },
  {
   "attachments": {},
   "cell_type": "markdown",
   "id": "56a95c4a",
   "metadata": {},
   "source": [
    "3) Dado el array\n",
    "2 4 5 6\n",
    "0 3 7 4\n",
    "8 8 5 2\n",
    "1 5 6 1\n",
    "Seleccione con una instrucción el subarray de elementos\n",
    "0 3 7 4\n",
    "Después, seleccione el subarray de elementos\n",
    "2 5\n",
    "8 5"
   ]
  },
  {
   "cell_type": "code",
   "execution_count": 7,
   "id": "e941c94c",
   "metadata": {},
   "outputs": [
    {
     "name": "stdout",
     "output_type": "stream",
     "text": [
      "[0 3 7 4]\n"
     ]
    }
   ],
   "source": [
    "# Array3\n",
    "array3 = np.array([[2, 4, 5, 6],\n",
    "                  [0, 3, 7, 4],\n",
    "                  [8, 8, 5, 2],\n",
    "                  [1, 5, 6, 1]])\n",
    "\n",
    "# Subarray de elementos 0 3 7 4\n",
    "print(array3[1])"
   ]
  },
  {
   "cell_type": "code",
   "execution_count": 8,
   "id": "f94f6186",
   "metadata": {},
   "outputs": [
    {
     "name": "stdout",
     "output_type": "stream",
     "text": [
      "[2 5 8 5]\n"
     ]
    }
   ],
   "source": [
    "# Seleccionar el subarray de elementos 2 5, 8 5\n",
    "\n",
    "Subarray3a = array3[0, [0,2]] \n",
    "Subarray3b = array3[2, [1,2]]\n",
    "Subarray3 = np.concatenate([Subarray3a, Subarray3b])\n",
    "print(Subarray3) "
   ]
  },
  {
   "cell_type": "code",
   "execution_count": 9,
   "id": "4b7f4f9e",
   "metadata": {},
   "outputs": [
    {
     "name": "stdout",
     "output_type": "stream",
     "text": [
      "[2 5]\n",
      "[8 5]\n"
     ]
    }
   ],
   "source": [
    "#Solución B\n",
    "print(Subarray3a) \n",
    "print(Subarray3b)"
   ]
  },
  {
   "attachments": {},
   "cell_type": "markdown",
   "id": "6331168b",
   "metadata": {},
   "source": [
    "4) Dados los arrays a = [1, 4, 2, 7] y b = [1, 3, 2, 9], \n",
    "obtenga la media aritmética de la diferencia (a-b)."
   ]
  },
  {
   "cell_type": "code",
   "execution_count": 10,
   "id": "151bd159",
   "metadata": {},
   "outputs": [
    {
     "name": "stdout",
     "output_type": "stream",
     "text": [
      "-0.25\n"
     ]
    }
   ],
   "source": [
    "a = np.array([1, 4, 2, 7])\n",
    "b = np.array([1, 3, 2, 9])\n",
    "\n",
    "Array4 = a - b\n",
    "\n",
    "# Calcular la media aritmética de la diferencia\n",
    "print(np.mean(Array4))"
   ]
  },
  {
   "attachments": {},
   "cell_type": "markdown",
   "id": "ceb1f819",
   "metadata": {},
   "source": [
    "5)Tengo valores de cordenadas (x, y) en las columnas \n",
    "del array\n",
    "1.33 4.5\n",
    "30.0 10.7\n",
    "70.2 0.5\n",
    "\n",
    "Agregue a este array las coordenadas (37.1, -3.6). \n",
    "Muestre en pantalla las dimensiones del nuevo \n",
    "array."
   ]
  },
  {
   "cell_type": "code",
   "execution_count": 11,
   "id": "2b2f1cc1",
   "metadata": {},
   "outputs": [
    {
     "name": "stdout",
     "output_type": "stream",
     "text": [
      "(4, 2)\n"
     ]
    }
   ],
   "source": [
    "Array5 = np.array([[1.33, 4.5],\n",
    "                   [30.0, 10.7],\n",
    "                   [70.2, 0.5]])\n",
    "\n",
    "# Agregar una nueva fila al array con las coordenadas (37.1, -3.6)\n",
    "agregarfila = np.array([37.1, -3.6])\n",
    "Array5 = np.append(Array5, [agregarfila], axis=0)\n",
    "\n",
    "# Mostrar las dimensiones del nuevo array\n",
    "print(Array5.shape)"
   ]
  },
  {
   "attachments": {},
   "cell_type": "markdown",
   "id": "b14093e9",
   "metadata": {},
   "source": [
    "6) Copie el array del ejercicio anterior. Traspóngalo (. \n",
    "Agregue ahora dos nuevos pares de coordenadas: (10.8, \n",
    "3.0) y (35.8, 12.0)."
   ]
  },
  {
   "cell_type": "code",
   "execution_count": 12,
   "id": "9c40696e",
   "metadata": {},
   "outputs": [
    {
     "name": "stdout",
     "output_type": "stream",
     "text": [
      "[[ 1.33  4.5 ]\n",
      " [30.   10.7 ]\n",
      " [70.2   0.5 ]\n",
      " [37.1  -3.6 ]\n",
      " [10.8   3.  ]\n",
      " [35.8  12.  ]]\n"
     ]
    }
   ],
   "source": [
    "Array6 = Array5\n",
    "agregarfila = np.array([10.8, 3.0])\n",
    "Array6 = np.append(Array6, [agregarfila], axis=0)\n",
    "agregarfila = np.array([35.8, 12.0])\n",
    "Array6 = np.append(Array6, [agregarfila], axis=0)\n",
    "print(Array6)"
   ]
  },
  {
   "cell_type": "code",
   "execution_count": 13,
   "id": "d31dc4e1",
   "metadata": {},
   "outputs": [
    {
     "name": "stdout",
     "output_type": "stream",
     "text": [
      "[[ 1.33 30.   70.2  37.1  10.8  35.8 ]\n",
      " [ 4.5  10.7   0.5  -3.6   3.   12.  ]]\n"
     ]
    }
   ],
   "source": [
    "Array6Transpuesto = Array6.T\n",
    "print(Array6Transpuesto)"
   ]
  },
  {
   "attachments": {},
   "cell_type": "markdown",
   "id": "78c73d2e",
   "metadata": {},
   "source": [
    "Parte 2: Exploración y Minería de Datos\n",
    "\n",
    "Con el dataset nucleospoblacion.csv adjunto al laboratorio, \n",
    "luego responda las siguientes preguntas usando pandas y \n",
    "matplotlib."
   ]
  },
  {
   "cell_type": "code",
   "execution_count": 14,
   "id": "72e54119",
   "metadata": {},
   "outputs": [
    {
     "name": "stdout",
     "output_type": "stream",
     "text": [
      "Collecting pandas\n",
      "  Downloading pandas-1.5.3-cp38-cp38-win_amd64.whl (11.0 MB)\n",
      "     ---------------------------------------- 11.0/11.0 MB 1.2 MB/s eta 0:00:00\n",
      "Requirement already satisfied: python-dateutil>=2.8.1 in c:\\users\\hp\\anaconda3\\envs\\clase\\lib\\site-packages (from pandas) (2.8.2)\n",
      "Requirement already satisfied: numpy>=1.20.3 in c:\\users\\hp\\anaconda3\\envs\\clase\\lib\\site-packages (from pandas) (1.24.2)\n",
      "Collecting pytz>=2020.1\n",
      "  Downloading pytz-2022.7.1-py2.py3-none-any.whl (499 kB)\n",
      "     -------------------------------------- 499.4/499.4 kB 1.7 MB/s eta 0:00:00\n",
      "Requirement already satisfied: six>=1.5 in c:\\users\\hp\\anaconda3\\envs\\clase\\lib\\site-packages (from python-dateutil>=2.8.1->pandas) (1.16.0)\n",
      "Installing collected packages: pytz, pandas\n",
      "Successfully installed pandas-1.5.3 pytz-2022.7.1\n",
      "Note: you may need to restart the kernel to use updated packages.\n"
     ]
    }
   ],
   "source": [
    "pip install pandas"
   ]
  },
  {
   "cell_type": "code",
   "execution_count": 17,
   "id": "85ce5cac",
   "metadata": {},
   "outputs": [],
   "source": [
    "import pandas as pd\n"
   ]
  },
  {
   "cell_type": "code",
   "execution_count": 23,
   "id": "8b528c1a",
   "metadata": {},
   "outputs": [
    {
     "name": "stdout",
     "output_type": "stream",
     "text": [
      "Collecting matplotlib\n",
      "  Downloading matplotlib-3.7.1-cp38-cp38-win_amd64.whl (7.6 MB)\n",
      "     ---------------------------------------- 7.6/7.6 MB 2.1 MB/s eta 0:00:00\n",
      "Collecting pillow>=6.2.0\n",
      "  Downloading Pillow-9.4.0-cp38-cp38-win_amd64.whl (2.5 MB)\n",
      "     ---------------------------------------- 2.5/2.5 MB 2.6 MB/s eta 0:00:00\n",
      "Collecting pyparsing>=2.3.1\n",
      "  Downloading pyparsing-3.0.9-py3-none-any.whl (98 kB)\n",
      "     ---------------------------------------- 98.3/98.3 kB 5.9 MB/s eta 0:00:00\n",
      "Requirement already satisfied: python-dateutil>=2.7 in c:\\users\\hp\\anaconda3\\envs\\clase\\lib\\site-packages (from matplotlib) (2.8.2)\n",
      "Collecting cycler>=0.10\n",
      "  Downloading cycler-0.11.0-py3-none-any.whl (6.4 kB)\n",
      "Requirement already satisfied: importlib-resources>=3.2.0 in c:\\users\\hp\\anaconda3\\envs\\clase\\lib\\site-packages (from matplotlib) (5.12.0)\n",
      "Requirement already satisfied: numpy>=1.20 in c:\\users\\hp\\anaconda3\\envs\\clase\\lib\\site-packages (from matplotlib) (1.24.2)\n",
      "Collecting kiwisolver>=1.0.1\n",
      "  Downloading kiwisolver-1.4.4-cp38-cp38-win_amd64.whl (55 kB)\n",
      "     ---------------------------------------- 55.4/55.4 kB 1.5 MB/s eta 0:00:00\n",
      "Collecting contourpy>=1.0.1\n",
      "  Downloading contourpy-1.0.7-cp38-cp38-win_amd64.whl (162 kB)\n",
      "     -------------------------------------- 163.0/163.0 kB 3.2 MB/s eta 0:00:00\n",
      "Collecting fonttools>=4.22.0\n",
      "  Downloading fonttools-4.39.2-py3-none-any.whl (1.0 MB)\n",
      "     ---------------------------------------- 1.0/1.0 MB 3.8 MB/s eta 0:00:00\n",
      "Requirement already satisfied: packaging>=20.0 in c:\\users\\hp\\anaconda3\\envs\\clase\\lib\\site-packages (from matplotlib) (23.0)\n",
      "Requirement already satisfied: zipp>=3.1.0 in c:\\users\\hp\\anaconda3\\envs\\clase\\lib\\site-packages (from importlib-resources>=3.2.0->matplotlib) (3.15.0)\n",
      "Requirement already satisfied: six>=1.5 in c:\\users\\hp\\anaconda3\\envs\\clase\\lib\\site-packages (from python-dateutil>=2.7->matplotlib) (1.16.0)\n",
      "Installing collected packages: pyparsing, pillow, kiwisolver, fonttools, cycler, contourpy, matplotlib\n",
      "Successfully installed contourpy-1.0.7 cycler-0.11.0 fonttools-4.39.2 kiwisolver-1.4.4 matplotlib-3.7.1 pillow-9.4.0 pyparsing-3.0.9\n",
      "Note: you may need to restart the kernel to use updated packages.\n"
     ]
    }
   ],
   "source": [
    "pip install matplotlib\n"
   ]
  },
  {
   "cell_type": "code",
   "execution_count": 24,
   "id": "52e3ec98",
   "metadata": {},
   "outputs": [],
   "source": [
    "import matplotlib as plt\n"
   ]
  },
  {
   "cell_type": "code",
   "execution_count": 26,
   "id": "21b6eb76",
   "metadata": {},
   "outputs": [
    {
     "data": {
      "text/html": [
       "<div>\n",
       "<style scoped>\n",
       "    .dataframe tbody tr th:only-of-type {\n",
       "        vertical-align: middle;\n",
       "    }\n",
       "\n",
       "    .dataframe tbody tr th {\n",
       "        vertical-align: top;\n",
       "    }\n",
       "\n",
       "    .dataframe thead th {\n",
       "        text-align: right;\n",
       "    }\n",
       "</style>\n",
       "<table border=\"1\" class=\"dataframe\">\n",
       "  <thead>\n",
       "    <tr style=\"text-align: right;\">\n",
       "      <th></th>\n",
       "      <th>FID</th>\n",
       "      <th>OBJECTID</th>\n",
       "      <th>Texto</th>\n",
       "      <th>Poblacion</th>\n",
       "      <th>CodMun</th>\n",
       "      <th>Municipio</th>\n",
       "      <th>CodProvin</th>\n",
       "      <th>Provincia</th>\n",
       "      <th>X</th>\n",
       "      <th>Y</th>\n",
       "    </tr>\n",
       "  </thead>\n",
       "  <tbody>\n",
       "    <tr>\n",
       "      <th>0</th>\n",
       "      <td>0</td>\n",
       "      <td>1</td>\n",
       "      <td>Agüimes</td>\n",
       "      <td>29431.0</td>\n",
       "      <td>35002</td>\n",
       "      <td>Agüimes</td>\n",
       "      <td>35</td>\n",
       "      <td>Las Palmas</td>\n",
       "      <td>-15.446012</td>\n",
       "      <td>27.900542</td>\n",
       "    </tr>\n",
       "    <tr>\n",
       "      <th>1</th>\n",
       "      <td>1</td>\n",
       "      <td>2</td>\n",
       "      <td>Antigua</td>\n",
       "      <td>10458.0</td>\n",
       "      <td>35003</td>\n",
       "      <td>Antigua</td>\n",
       "      <td>35</td>\n",
       "      <td>Las Palmas</td>\n",
       "      <td>-14.013301</td>\n",
       "      <td>28.418966</td>\n",
       "    </tr>\n",
       "    <tr>\n",
       "      <th>2</th>\n",
       "      <td>2</td>\n",
       "      <td>3</td>\n",
       "      <td>Arrecife</td>\n",
       "      <td>58156.0</td>\n",
       "      <td>35004</td>\n",
       "      <td>Arrecife</td>\n",
       "      <td>35</td>\n",
       "      <td>Las Palmas</td>\n",
       "      <td>-13.551451</td>\n",
       "      <td>28.960649</td>\n",
       "    </tr>\n",
       "    <tr>\n",
       "      <th>3</th>\n",
       "      <td>3</td>\n",
       "      <td>4</td>\n",
       "      <td>Arucas</td>\n",
       "      <td>36745.0</td>\n",
       "      <td>35006</td>\n",
       "      <td>Arucas</td>\n",
       "      <td>35</td>\n",
       "      <td>Las Palmas</td>\n",
       "      <td>-15.521512</td>\n",
       "      <td>28.117496</td>\n",
       "    </tr>\n",
       "    <tr>\n",
       "      <th>4</th>\n",
       "      <td>4</td>\n",
       "      <td>5</td>\n",
       "      <td>Gáldar</td>\n",
       "      <td>24473.0</td>\n",
       "      <td>35009</td>\n",
       "      <td>Gáldar</td>\n",
       "      <td>35</td>\n",
       "      <td>Las Palmas</td>\n",
       "      <td>-15.654111</td>\n",
       "      <td>28.143873</td>\n",
       "    </tr>\n",
       "  </tbody>\n",
       "</table>\n",
       "</div>"
      ],
      "text/plain": [
       "   FID  OBJECTID     Texto  Poblacion  CodMun Municipio  CodProvin  \\\n",
       "0    0         1   Agüimes    29431.0   35002   Agüimes         35   \n",
       "1    1         2   Antigua    10458.0   35003   Antigua         35   \n",
       "2    2         3  Arrecife    58156.0   35004  Arrecife         35   \n",
       "3    3         4    Arucas    36745.0   35006    Arucas         35   \n",
       "4    4         5    Gáldar    24473.0   35009    Gáldar         35   \n",
       "\n",
       "    Provincia          X          Y  \n",
       "0  Las Palmas -15.446012  27.900542  \n",
       "1  Las Palmas -14.013301  28.418966  \n",
       "2  Las Palmas -13.551451  28.960649  \n",
       "3  Las Palmas -15.521512  28.117496  \n",
       "4  Las Palmas -15.654111  28.143873  "
      ]
     },
     "execution_count": 26,
     "metadata": {},
     "output_type": "execute_result"
    }
   ],
   "source": [
    "dataset = pd.read_csv(\"NucleosPoblacion.csv\")\n",
    "dataset.head()"
   ]
  },
  {
   "attachments": {},
   "cell_type": "markdown",
   "id": "38ef3c6d",
   "metadata": {},
   "source": [
    "1)¿Cuántos Municipios tienen más de 100000 \n",
    "habitantes?."
   ]
  },
  {
   "cell_type": "code",
   "execution_count": 28,
   "metadata": {},
   "outputs": [
    {
     "name": "stdout",
     "output_type": "stream",
     "text": [
      "Número de municipios con más de 100000 habitantes: 62\n"
     ]
    }
   ],
   "source": [
    "municipios_mas_100k = dataset.query('Poblacion > 100000')\n",
    "\n",
    "num_municipios_mas_100k = len(municipios_mas_100k)\n",
    "\n",
    "print(\"Número de municipios con más de 100000 habitantes:\", num_municipios_mas_100k)"
   ]
  },
  {
   "attachments": {},
   "cell_type": "markdown",
   "id": "88d38d46",
   "metadata": {},
   "source": [
    "2) Realice una gráfica de barras sobre la polbación de cada \n",
    "ciudad, ordenela de menor a mayo y responda:\n",
    "a. ¿Cuál es la segunda ciudad más poblada?\n",
    "b. ¿Qué posición ocupa Granada en el ranking de las ciudades más pobladas?"
   ]
  },
  {
   "attachments": {},
   "cell_type": "markdown",
   "id": "044e7eb5",
   "metadata": {},
   "source": [
    "3) ¿Cuántos municipios de Extremadura tienen más de 5000 \n",
    "habitantes?."
   ]
  },
  {
   "cell_type": "code",
   "execution_count": 32,
   "id": "b0fdd4be",
   "metadata": {},
   "outputs": [
    {
     "name": "stdout",
     "output_type": "stream",
     "text": [
      "Cantidad de municipios de Extremadura con más de 5000 habitantes:  14\n"
     ]
    }
   ],
   "source": [
    "extremadura = dataset.query(\"Provincia == 'Cáceres' or Provincia == 'Badajoz'\")\n",
    "municipios_mas_5000 = extremadura[extremadura[\"Poblacion\"] > 5000]\n",
    "print(\"Cantidad de municipios de Extremadura con más de 5000 habitantes: \", len(municipios_mas_5000))"
   ]
  },
  {
   "attachments": {},
   "cell_type": "markdown",
   "id": "8226ca7d",
   "metadata": {},
   "source": [
    "4)¿Cuál es el municipio situado más al Norte? (Usar el valor de la coordenada \"Y\" que representa la latitud en \n",
    "grados). Proporcione también la provincia a la quepertenece y su población."
   ]
  },
  {
   "cell_type": "code",
   "execution_count": 34,
   "metadata": {},
   "outputs": [
    {
     "name": "stdout",
     "output_type": "stream",
     "text": [
      "El municipio más al norte es Viveiro, en la provincia de Lugo, con una población de 16211.0 habitantes.\n"
     ]
    }
   ],
   "source": [
    "\n",
    "masalnorte = dataset.loc[dataset['Y'].idxmax()]\n",
    "municipio = masalnorte['Municipio']\n",
    "provincia = masalnorte['Provincia']\n",
    "poblacion = masalnorte['Poblacion']\n",
    "print(f\"El municipio más al norte es {municipio}, en la provincia de {provincia}, con una población de {poblacion} habitantes.\")"
   ]
  },
  {
   "attachments": {},
   "cell_type": "markdown",
   "id": "b6f4aff3",
   "metadata": {},
   "source": [
    "5) Obtenga la media, mediana, desviación estándar, valor máximo y valor mínimo de la población de los municipios de la provincia de Granada."
   ]
  },
  {
   "cell_type": "code",
   "execution_count": 35,
   "id": "df0b1de9",
   "metadata": {},
   "outputs": [
    {
     "name": "stdout",
     "output_type": "stream",
     "text": [
      "count        20.000000\n",
      "mean      30217.850000\n",
      "std       50355.491715\n",
      "min       10386.000000\n",
      "25%       13146.500000\n",
      "50%       17526.000000\n",
      "75%       21739.750000\n",
      "max      239154.000000\n",
      "Name: Poblacion, dtype: float64\n"
     ]
    }
   ],
   "source": [
    "granada = dataset[dataset[\"Provincia\"] == \"Granada\"]\n",
    "\n",
    "poblacion_stats = granada[\"Poblacion\"].describe()\n",
    "\n",
    "print(poblacion_stats)"
   ]
  },
  {
   "attachments": {},
   "cell_type": "markdown",
   "id": "6945b29e",
   "metadata": {},
   "source": [
    "6) Realice un histograma con la población de los Municipios para cada una de las provincias."
   ]
  },
  {
   "attachments": {},
   "cell_type": "markdown",
   "id": "fb6c85b3",
   "metadata": {},
   "source": [
    "7) Seleccione al azar cincuenta municipios diferentes de entre los diponibles en el archivo. Asegúrese de que no se repitan. ¿Luego calcule el promedio de la población y la desviación estándar de esto 50 municipios?."
   ]
  },
  {
   "cell_type": "code",
   "execution_count": 38,
   "id": "24af816c",
   "metadata": {},
   "outputs": [
    {
     "name": "stdout",
     "output_type": "stream",
     "text": [
      "Promedio de la población:  31679.23076923077\n",
      "Desviación estándar de la población:  36122.309098023514\n"
     ]
    }
   ],
   "source": [
    "municipios = dataset['Municipio'].unique()\n",
    "muestras = pd.Series(municipios).sample(n=50, random_state=1)\n",
    "\n",
    "subset = dataset[dataset['Municipio'].isin(muestras)]\n",
    "\n",
    "promedio = subset['Poblacion'].mean()\n",
    "desv_estandar = subset['Poblacion'].std()\n",
    "\n",
    "print(\"Promedio de la población: \", promedio)\n",
    "print(\"Desviación estándar de la población: \", desv_estandar)"
   ]
  },
  {
   "attachments": {},
   "cell_type": "markdown",
   "id": "39bb0997",
   "metadata": {},
   "source": [
    "8) Dígame los nombres de los Municipios más cercano y más lejano a Madrid. Para ello debe calcular la distancia en todos ellos y Madrid. No considere a Madrid en el análisis ya que la distancia sería cero."
   ]
  },
  {
   "cell_type": "code",
   "execution_count": 39,
   "id": "9f27c6c7",
   "metadata": {},
   "outputs": [
    {
     "name": "stdout",
     "output_type": "stream",
     "text": [
      "Municipio más cercano a Madrid: Pozuelo de Alarcón\n",
      "Municipio más lejano a Madrid: Los Llanos de Aridane\n"
     ]
    }
   ],
   "source": [
    "from math import radians, cos, sin, asin, sqrt\n",
    "\n",
    "\n",
    "madrid = dataset.loc[dataset['Municipio'] == 'Madrid']\n",
    "x_madrid = madrid['X'].values[0]\n",
    "y_madrid = madrid['Y'].values[0]\n",
    "\n",
    "madrid_lat, madrid_lon = radians(y_madrid), radians(x_madrid)\n",
    "\n",
    "# Distancia entre Madrid y cada municipio\n",
    "distances = []\n",
    "for index, row in dataset.iterrows():\n",
    "    if row[\"Municipio\"] != \"Madrid\":\n",
    "        lat, lon = radians(row[\"Y\"]), radians(row[\"X\"])\n",
    "        dlon = lon - madrid_lon \n",
    "        dlat = lat - madrid_lat \n",
    "        a = sin(dlat/2)**2 + cos(lat) * cos(madrid_lat) * sin(dlon/2)**2\n",
    "        c = 2 * asin(sqrt(a)) \n",
    "        distance = 6371 * c  # Radio de la tierra en kilómetros\n",
    "        distances.append(distance)\n",
    "    else:\n",
    "        distances.append(None)\n",
    "\n",
    "dataset[\"Distance to Madrid\"] = distances\n",
    "\n",
    "mascercam = dataset.loc[dataset[\"Distance to Madrid\"].idxmin()][\"Municipio\"]\n",
    "maslejosm = dataset.loc[dataset[\"Distance to Madrid\"].idxmax()][\"Municipio\"]\n",
    "\n",
    "print(\"Municipio más cercano a Madrid:\", mascercam)\n",
    "print(\"Municipio más lejano a Madrid:\", maslejosm)"
   ]
  }
 ],
 "metadata": {
  "kernelspec": {
   "display_name": "Clase",
   "language": "python",
   "name": "python3"
  },
  "language_info": {
   "codemirror_mode": {
    "name": "ipython",
    "version": 3
   },
   "file_extension": ".py",
   "mimetype": "text/x-python",
   "name": "python",
   "nbconvert_exporter": "python",
   "pygments_lexer": "ipython3",
   "version": "3.8.16"
  }
 },
 "nbformat": 4,
 "nbformat_minor": 5
}
